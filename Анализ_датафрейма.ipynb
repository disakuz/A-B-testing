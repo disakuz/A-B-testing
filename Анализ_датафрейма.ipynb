{
  "cells": [
    {
      "cell_type": "markdown",
      "metadata": {
        "id": "view-in-github",
        "colab_type": "text"
      },
      "source": [
        "<a href=\"https://colab.research.google.com/github/disakuz/A-B-testing/blob/main/%D0%90%D0%BD%D0%B0%D0%BB%D0%B8%D0%B7_%D0%B4%D0%B0%D1%82%D0%B0%D1%84%D1%80%D0%B5%D0%B9%D0%BC%D0%B0.ipynb\" target=\"_parent\"><img src=\"https://colab.research.google.com/assets/colab-badge.svg\" alt=\"Open In Colab\"/></a>"
      ]
    },
    {
      "cell_type": "code",
      "execution_count": null,
      "metadata": {
        "id": "bSCSWdSIV8V7"
      },
      "outputs": [],
      "source": [
        "import pandas as pd\n",
        "import numpy as np"
      ]
    },
    {
      "cell_type": "code",
      "execution_count": null,
      "metadata": {
        "colab": {
          "base_uri": "https://localhost:8080/",
          "height": 374
        },
        "id": "jABtL_-7WCKI",
        "outputId": "c74f12c2-2bcc-424f-8914-c034055a464b"
      },
      "outputs": [
        {
          "output_type": "execute_result",
          "data": {
            "text/plain": [
              "   Unnamed: 0  user_id  hour       os order_class     surge  app_opened  \\\n",
              "0           0   867689    12      iOS    business  no surge           1   \n",
              "1           1   752172     5  Android     economy  no surge           1   \n",
              "2           2   486559    15  Android     comfort  no surge           1   \n",
              "3           3   304024     0  Android     economy  no surge           1   \n",
              "4           4   139420     0  Android    business  no surge           1   \n",
              "\n",
              "   price_seen  order_made  ride_completed  user_cancelled  city_center_order  \\\n",
              "0           1           1               1               0                  0   \n",
              "1           1           1               1               0                  1   \n",
              "2           1           1               1               0                  0   \n",
              "3           1           1               1               0                  1   \n",
              "4           1           1               1               0                  0   \n",
              "\n",
              "    distance  age   rfm  \n",
              "0   7.982135   20   low  \n",
              "1   2.908468   27  high  \n",
              "2   7.224614   21  high  \n",
              "3   1.874349   52   low  \n",
              "4  10.704778   19   low  "
            ],
            "text/html": [
              "\n",
              "  <div id=\"df-40a14fd6-6932-46ba-ac83-494d6fe9b661\">\n",
              "    <div class=\"colab-df-container\">\n",
              "      <div>\n",
              "<style scoped>\n",
              "    .dataframe tbody tr th:only-of-type {\n",
              "        vertical-align: middle;\n",
              "    }\n",
              "\n",
              "    .dataframe tbody tr th {\n",
              "        vertical-align: top;\n",
              "    }\n",
              "\n",
              "    .dataframe thead th {\n",
              "        text-align: right;\n",
              "    }\n",
              "</style>\n",
              "<table border=\"1\" class=\"dataframe\">\n",
              "  <thead>\n",
              "    <tr style=\"text-align: right;\">\n",
              "      <th></th>\n",
              "      <th>Unnamed: 0</th>\n",
              "      <th>user_id</th>\n",
              "      <th>hour</th>\n",
              "      <th>os</th>\n",
              "      <th>order_class</th>\n",
              "      <th>surge</th>\n",
              "      <th>app_opened</th>\n",
              "      <th>price_seen</th>\n",
              "      <th>order_made</th>\n",
              "      <th>ride_completed</th>\n",
              "      <th>user_cancelled</th>\n",
              "      <th>city_center_order</th>\n",
              "      <th>distance</th>\n",
              "      <th>age</th>\n",
              "      <th>rfm</th>\n",
              "    </tr>\n",
              "  </thead>\n",
              "  <tbody>\n",
              "    <tr>\n",
              "      <th>0</th>\n",
              "      <td>0</td>\n",
              "      <td>867689</td>\n",
              "      <td>12</td>\n",
              "      <td>iOS</td>\n",
              "      <td>business</td>\n",
              "      <td>no surge</td>\n",
              "      <td>1</td>\n",
              "      <td>1</td>\n",
              "      <td>1</td>\n",
              "      <td>1</td>\n",
              "      <td>0</td>\n",
              "      <td>0</td>\n",
              "      <td>7.982135</td>\n",
              "      <td>20</td>\n",
              "      <td>low</td>\n",
              "    </tr>\n",
              "    <tr>\n",
              "      <th>1</th>\n",
              "      <td>1</td>\n",
              "      <td>752172</td>\n",
              "      <td>5</td>\n",
              "      <td>Android</td>\n",
              "      <td>economy</td>\n",
              "      <td>no surge</td>\n",
              "      <td>1</td>\n",
              "      <td>1</td>\n",
              "      <td>1</td>\n",
              "      <td>1</td>\n",
              "      <td>0</td>\n",
              "      <td>1</td>\n",
              "      <td>2.908468</td>\n",
              "      <td>27</td>\n",
              "      <td>high</td>\n",
              "    </tr>\n",
              "    <tr>\n",
              "      <th>2</th>\n",
              "      <td>2</td>\n",
              "      <td>486559</td>\n",
              "      <td>15</td>\n",
              "      <td>Android</td>\n",
              "      <td>comfort</td>\n",
              "      <td>no surge</td>\n",
              "      <td>1</td>\n",
              "      <td>1</td>\n",
              "      <td>1</td>\n",
              "      <td>1</td>\n",
              "      <td>0</td>\n",
              "      <td>0</td>\n",
              "      <td>7.224614</td>\n",
              "      <td>21</td>\n",
              "      <td>high</td>\n",
              "    </tr>\n",
              "    <tr>\n",
              "      <th>3</th>\n",
              "      <td>3</td>\n",
              "      <td>304024</td>\n",
              "      <td>0</td>\n",
              "      <td>Android</td>\n",
              "      <td>economy</td>\n",
              "      <td>no surge</td>\n",
              "      <td>1</td>\n",
              "      <td>1</td>\n",
              "      <td>1</td>\n",
              "      <td>1</td>\n",
              "      <td>0</td>\n",
              "      <td>1</td>\n",
              "      <td>1.874349</td>\n",
              "      <td>52</td>\n",
              "      <td>low</td>\n",
              "    </tr>\n",
              "    <tr>\n",
              "      <th>4</th>\n",
              "      <td>4</td>\n",
              "      <td>139420</td>\n",
              "      <td>0</td>\n",
              "      <td>Android</td>\n",
              "      <td>business</td>\n",
              "      <td>no surge</td>\n",
              "      <td>1</td>\n",
              "      <td>1</td>\n",
              "      <td>1</td>\n",
              "      <td>1</td>\n",
              "      <td>0</td>\n",
              "      <td>0</td>\n",
              "      <td>10.704778</td>\n",
              "      <td>19</td>\n",
              "      <td>low</td>\n",
              "    </tr>\n",
              "  </tbody>\n",
              "</table>\n",
              "</div>\n",
              "      <button class=\"colab-df-convert\" onclick=\"convertToInteractive('df-40a14fd6-6932-46ba-ac83-494d6fe9b661')\"\n",
              "              title=\"Convert this dataframe to an interactive table.\"\n",
              "              style=\"display:none;\">\n",
              "        \n",
              "  <svg xmlns=\"http://www.w3.org/2000/svg\" height=\"24px\"viewBox=\"0 0 24 24\"\n",
              "       width=\"24px\">\n",
              "    <path d=\"M0 0h24v24H0V0z\" fill=\"none\"/>\n",
              "    <path d=\"M18.56 5.44l.94 2.06.94-2.06 2.06-.94-2.06-.94-.94-2.06-.94 2.06-2.06.94zm-11 1L8.5 8.5l.94-2.06 2.06-.94-2.06-.94L8.5 2.5l-.94 2.06-2.06.94zm10 10l.94 2.06.94-2.06 2.06-.94-2.06-.94-.94-2.06-.94 2.06-2.06.94z\"/><path d=\"M17.41 7.96l-1.37-1.37c-.4-.4-.92-.59-1.43-.59-.52 0-1.04.2-1.43.59L10.3 9.45l-7.72 7.72c-.78.78-.78 2.05 0 2.83L4 21.41c.39.39.9.59 1.41.59.51 0 1.02-.2 1.41-.59l7.78-7.78 2.81-2.81c.8-.78.8-2.07 0-2.86zM5.41 20L4 18.59l7.72-7.72 1.47 1.35L5.41 20z\"/>\n",
              "  </svg>\n",
              "      </button>\n",
              "      \n",
              "  <style>\n",
              "    .colab-df-container {\n",
              "      display:flex;\n",
              "      flex-wrap:wrap;\n",
              "      gap: 12px;\n",
              "    }\n",
              "\n",
              "    .colab-df-convert {\n",
              "      background-color: #E8F0FE;\n",
              "      border: none;\n",
              "      border-radius: 50%;\n",
              "      cursor: pointer;\n",
              "      display: none;\n",
              "      fill: #1967D2;\n",
              "      height: 32px;\n",
              "      padding: 0 0 0 0;\n",
              "      width: 32px;\n",
              "    }\n",
              "\n",
              "    .colab-df-convert:hover {\n",
              "      background-color: #E2EBFA;\n",
              "      box-shadow: 0px 1px 2px rgba(60, 64, 67, 0.3), 0px 1px 3px 1px rgba(60, 64, 67, 0.15);\n",
              "      fill: #174EA6;\n",
              "    }\n",
              "\n",
              "    [theme=dark] .colab-df-convert {\n",
              "      background-color: #3B4455;\n",
              "      fill: #D2E3FC;\n",
              "    }\n",
              "\n",
              "    [theme=dark] .colab-df-convert:hover {\n",
              "      background-color: #434B5C;\n",
              "      box-shadow: 0px 1px 3px 1px rgba(0, 0, 0, 0.15);\n",
              "      filter: drop-shadow(0px 1px 2px rgba(0, 0, 0, 0.3));\n",
              "      fill: #FFFFFF;\n",
              "    }\n",
              "  </style>\n",
              "\n",
              "      <script>\n",
              "        const buttonEl =\n",
              "          document.querySelector('#df-40a14fd6-6932-46ba-ac83-494d6fe9b661 button.colab-df-convert');\n",
              "        buttonEl.style.display =\n",
              "          google.colab.kernel.accessAllowed ? 'block' : 'none';\n",
              "\n",
              "        async function convertToInteractive(key) {\n",
              "          const element = document.querySelector('#df-40a14fd6-6932-46ba-ac83-494d6fe9b661');\n",
              "          const dataTable =\n",
              "            await google.colab.kernel.invokeFunction('convertToInteractive',\n",
              "                                                     [key], {});\n",
              "          if (!dataTable) return;\n",
              "\n",
              "          const docLinkHtml = 'Like what you see? Visit the ' +\n",
              "            '<a target=\"_blank\" href=https://colab.research.google.com/notebooks/data_table.ipynb>data table notebook</a>'\n",
              "            + ' to learn more about interactive tables.';\n",
              "          element.innerHTML = '';\n",
              "          dataTable['output_type'] = 'display_data';\n",
              "          await google.colab.output.renderOutput(dataTable, element);\n",
              "          const docLink = document.createElement('div');\n",
              "          docLink.innerHTML = docLinkHtml;\n",
              "          element.appendChild(docLink);\n",
              "        }\n",
              "      </script>\n",
              "    </div>\n",
              "  </div>\n",
              "  "
            ]
          },
          "metadata": {},
          "execution_count": 2
        }
      ],
      "source": [
        "reester = pd.read_csv(\"/content/drive/MyDrive/A B testing/new_dataframe.csv\")\n",
        "reester.head()"
      ]
    },
    {
      "cell_type": "code",
      "execution_count": null,
      "metadata": {
        "colab": {
          "background_save": true
        },
        "id": "zkkFF2o76Ql_",
        "outputId": "1f787890-c901-4f74-c85b-357c2743a72b"
      },
      "outputs": [
        {
          "data": {
            "text/plain": [
              "549874.8022068966"
            ]
          },
          "execution_count": 16,
          "metadata": {},
          "output_type": "execute_result"
        }
      ],
      "source": [
        "reester['user_id'].mean()"
      ]
    },
    {
      "cell_type": "code",
      "execution_count": null,
      "metadata": {
        "colab": {
          "base_uri": "https://localhost:8080/",
          "height": 1000
        },
        "id": "C6LPyc5SRGhL",
        "outputId": "a8e231b3-23d8-4f74-956e-74e083496f7c"
      },
      "outputs": [
        {
          "output_type": "execute_result",
          "data": {
            "text/plain": [
              "    Unnamed: 0  user_id  hour       os order_class     surge  app_opened  \\\n",
              "0            0   867689    12      iOS    business  no surge           1   \n",
              "1            1   752172     5  Android     economy  no surge           1   \n",
              "2            2   486559    15  Android     comfort  no surge           1   \n",
              "3            3   304024     0  Android     economy  no surge           1   \n",
              "4            4   139420     0  Android    business  no surge           1   \n",
              "6            6   416988     0      iOS     comfort  no surge           1   \n",
              "7            7   682337     2  Android     comfort  no surge           1   \n",
              "9            9   662775    17  Android     comfort     surge           1   \n",
              "10          10   464055    20      iOS     comfort     surge           1   \n",
              "11          11   370093    12  Android     economy  no surge           1   \n",
              "13          13   786923    23  Android     comfort  no surge           1   \n",
              "14          14   382672     2      iOS     comfort  no surge           1   \n",
              "15          15   893154     6      iOS     economy  no surge           1   \n",
              "16          16   990097     2  Android     economy  no surge           1   \n",
              "18          18   393096    23  Android     comfort     surge           1   \n",
              "19          19   320419     3  Android     comfort  no surge           1   \n",
              "20          20   877152    22      iOS     comfort  no surge           1   \n",
              "21          21   103860    13      iOS     economy     surge           1   \n",
              "22          22   667749     5  Android    business  no surge           1   \n",
              "24          24   461185    21      iOS     economy     surge           1   \n",
              "25          25   327683    11  Android     comfort  no surge           1   \n",
              "26          26   824898    11  Android     economy  no surge           1   \n",
              "27          27   654038    18  Android     economy  no surge           1   \n",
              "28          28   902515    14  Android     economy  no surge           1   \n",
              "29          29   634314    13      iOS     economy  no surge           1   \n",
              "30          30   758449    15      iOS     economy  no surge           1   \n",
              "31          31   311367    20  Android     comfort     surge           1   \n",
              "32          32   201800     4  Android     economy  no surge           1   \n",
              "33          33   963064     2      iOS     economy  no surge           1   \n",
              "34          34   432398     1      iOS     economy  no surge           1   \n",
              "\n",
              "    price_seen  order_made  ride_completed  user_cancelled  city_center_order  \\\n",
              "0            1           1               1               0                  0   \n",
              "1            1           1               1               0                  1   \n",
              "2            1           1               1               0                  0   \n",
              "3            1           1               1               0                  1   \n",
              "4            1           1               1               0                  0   \n",
              "6            1           0               0               0                  1   \n",
              "7            1           1               1               0                  1   \n",
              "9            1           1               1               0                  1   \n",
              "10           1           1               1               0                  0   \n",
              "11           1           1               1               0                  0   \n",
              "13           1           0               0               0                  1   \n",
              "14           1           1               1               0                  0   \n",
              "15           1           1               1               0                  0   \n",
              "16           1           1               1               0                  1   \n",
              "18           1           0               0               0                  1   \n",
              "19           1           1               1               0                  1   \n",
              "20           1           1               1               0                  1   \n",
              "21           1           1               1               0                  1   \n",
              "22           1           1               0               1                  1   \n",
              "24           1           1               1               0                  1   \n",
              "25           1           0               0               0                  1   \n",
              "26           1           1               1               0                  0   \n",
              "27           1           1               0               1                  0   \n",
              "28           1           1               1               0                  0   \n",
              "29           1           1               1               0                  1   \n",
              "30           1           1               1               0                  0   \n",
              "31           1           1               1               0                  1   \n",
              "32           1           1               1               0                  1   \n",
              "33           1           1               1               0                  1   \n",
              "34           1           1               1               0                  0   \n",
              "\n",
              "     distance  age   rfm  \n",
              "0    7.982135   20   low  \n",
              "1    2.908468   27  high  \n",
              "2    7.224614   21  high  \n",
              "3    1.874349   52   low  \n",
              "4   10.704778   19   low  \n",
              "6    7.535725   24  high  \n",
              "7    9.055344   21   low  \n",
              "9    4.828326   36   low  \n",
              "10   3.647097   25  high  \n",
              "11   4.273224   27   low  \n",
              "13   0.704415   21   low  \n",
              "14   8.669202   18  high  \n",
              "15   3.563128   29  high  \n",
              "16   5.766970   28   low  \n",
              "18   2.523357   19  high  \n",
              "19   5.545119   22   low  \n",
              "20  13.076742   27   low  \n",
              "21   7.934002   21  high  \n",
              "22   5.612632   23   low  \n",
              "24   1.590209   29  high  \n",
              "25   2.481234   30   low  \n",
              "26   2.544092   19   low  \n",
              "27   7.470499   21  high  \n",
              "28   1.985884   24   low  \n",
              "29   2.994871   18  high  \n",
              "30   2.683326   22  high  \n",
              "31   5.894584   22  high  \n",
              "32   3.531417   18  high  \n",
              "33   4.075189   37  high  \n",
              "34   3.915895   20   low  "
            ],
            "text/html": [
              "\n",
              "  <div id=\"df-f4f45bb2-413d-41e3-8a1a-bb70a392606e\">\n",
              "    <div class=\"colab-df-container\">\n",
              "      <div>\n",
              "<style scoped>\n",
              "    .dataframe tbody tr th:only-of-type {\n",
              "        vertical-align: middle;\n",
              "    }\n",
              "\n",
              "    .dataframe tbody tr th {\n",
              "        vertical-align: top;\n",
              "    }\n",
              "\n",
              "    .dataframe thead th {\n",
              "        text-align: right;\n",
              "    }\n",
              "</style>\n",
              "<table border=\"1\" class=\"dataframe\">\n",
              "  <thead>\n",
              "    <tr style=\"text-align: right;\">\n",
              "      <th></th>\n",
              "      <th>Unnamed: 0</th>\n",
              "      <th>user_id</th>\n",
              "      <th>hour</th>\n",
              "      <th>os</th>\n",
              "      <th>order_class</th>\n",
              "      <th>surge</th>\n",
              "      <th>app_opened</th>\n",
              "      <th>price_seen</th>\n",
              "      <th>order_made</th>\n",
              "      <th>ride_completed</th>\n",
              "      <th>user_cancelled</th>\n",
              "      <th>city_center_order</th>\n",
              "      <th>distance</th>\n",
              "      <th>age</th>\n",
              "      <th>rfm</th>\n",
              "    </tr>\n",
              "  </thead>\n",
              "  <tbody>\n",
              "    <tr>\n",
              "      <th>0</th>\n",
              "      <td>0</td>\n",
              "      <td>867689</td>\n",
              "      <td>12</td>\n",
              "      <td>iOS</td>\n",
              "      <td>business</td>\n",
              "      <td>no surge</td>\n",
              "      <td>1</td>\n",
              "      <td>1</td>\n",
              "      <td>1</td>\n",
              "      <td>1</td>\n",
              "      <td>0</td>\n",
              "      <td>0</td>\n",
              "      <td>7.982135</td>\n",
              "      <td>20</td>\n",
              "      <td>low</td>\n",
              "    </tr>\n",
              "    <tr>\n",
              "      <th>1</th>\n",
              "      <td>1</td>\n",
              "      <td>752172</td>\n",
              "      <td>5</td>\n",
              "      <td>Android</td>\n",
              "      <td>economy</td>\n",
              "      <td>no surge</td>\n",
              "      <td>1</td>\n",
              "      <td>1</td>\n",
              "      <td>1</td>\n",
              "      <td>1</td>\n",
              "      <td>0</td>\n",
              "      <td>1</td>\n",
              "      <td>2.908468</td>\n",
              "      <td>27</td>\n",
              "      <td>high</td>\n",
              "    </tr>\n",
              "    <tr>\n",
              "      <th>2</th>\n",
              "      <td>2</td>\n",
              "      <td>486559</td>\n",
              "      <td>15</td>\n",
              "      <td>Android</td>\n",
              "      <td>comfort</td>\n",
              "      <td>no surge</td>\n",
              "      <td>1</td>\n",
              "      <td>1</td>\n",
              "      <td>1</td>\n",
              "      <td>1</td>\n",
              "      <td>0</td>\n",
              "      <td>0</td>\n",
              "      <td>7.224614</td>\n",
              "      <td>21</td>\n",
              "      <td>high</td>\n",
              "    </tr>\n",
              "    <tr>\n",
              "      <th>3</th>\n",
              "      <td>3</td>\n",
              "      <td>304024</td>\n",
              "      <td>0</td>\n",
              "      <td>Android</td>\n",
              "      <td>economy</td>\n",
              "      <td>no surge</td>\n",
              "      <td>1</td>\n",
              "      <td>1</td>\n",
              "      <td>1</td>\n",
              "      <td>1</td>\n",
              "      <td>0</td>\n",
              "      <td>1</td>\n",
              "      <td>1.874349</td>\n",
              "      <td>52</td>\n",
              "      <td>low</td>\n",
              "    </tr>\n",
              "    <tr>\n",
              "      <th>4</th>\n",
              "      <td>4</td>\n",
              "      <td>139420</td>\n",
              "      <td>0</td>\n",
              "      <td>Android</td>\n",
              "      <td>business</td>\n",
              "      <td>no surge</td>\n",
              "      <td>1</td>\n",
              "      <td>1</td>\n",
              "      <td>1</td>\n",
              "      <td>1</td>\n",
              "      <td>0</td>\n",
              "      <td>0</td>\n",
              "      <td>10.704778</td>\n",
              "      <td>19</td>\n",
              "      <td>low</td>\n",
              "    </tr>\n",
              "    <tr>\n",
              "      <th>6</th>\n",
              "      <td>6</td>\n",
              "      <td>416988</td>\n",
              "      <td>0</td>\n",
              "      <td>iOS</td>\n",
              "      <td>comfort</td>\n",
              "      <td>no surge</td>\n",
              "      <td>1</td>\n",
              "      <td>1</td>\n",
              "      <td>0</td>\n",
              "      <td>0</td>\n",
              "      <td>0</td>\n",
              "      <td>1</td>\n",
              "      <td>7.535725</td>\n",
              "      <td>24</td>\n",
              "      <td>high</td>\n",
              "    </tr>\n",
              "    <tr>\n",
              "      <th>7</th>\n",
              "      <td>7</td>\n",
              "      <td>682337</td>\n",
              "      <td>2</td>\n",
              "      <td>Android</td>\n",
              "      <td>comfort</td>\n",
              "      <td>no surge</td>\n",
              "      <td>1</td>\n",
              "      <td>1</td>\n",
              "      <td>1</td>\n",
              "      <td>1</td>\n",
              "      <td>0</td>\n",
              "      <td>1</td>\n",
              "      <td>9.055344</td>\n",
              "      <td>21</td>\n",
              "      <td>low</td>\n",
              "    </tr>\n",
              "    <tr>\n",
              "      <th>9</th>\n",
              "      <td>9</td>\n",
              "      <td>662775</td>\n",
              "      <td>17</td>\n",
              "      <td>Android</td>\n",
              "      <td>comfort</td>\n",
              "      <td>surge</td>\n",
              "      <td>1</td>\n",
              "      <td>1</td>\n",
              "      <td>1</td>\n",
              "      <td>1</td>\n",
              "      <td>0</td>\n",
              "      <td>1</td>\n",
              "      <td>4.828326</td>\n",
              "      <td>36</td>\n",
              "      <td>low</td>\n",
              "    </tr>\n",
              "    <tr>\n",
              "      <th>10</th>\n",
              "      <td>10</td>\n",
              "      <td>464055</td>\n",
              "      <td>20</td>\n",
              "      <td>iOS</td>\n",
              "      <td>comfort</td>\n",
              "      <td>surge</td>\n",
              "      <td>1</td>\n",
              "      <td>1</td>\n",
              "      <td>1</td>\n",
              "      <td>1</td>\n",
              "      <td>0</td>\n",
              "      <td>0</td>\n",
              "      <td>3.647097</td>\n",
              "      <td>25</td>\n",
              "      <td>high</td>\n",
              "    </tr>\n",
              "    <tr>\n",
              "      <th>11</th>\n",
              "      <td>11</td>\n",
              "      <td>370093</td>\n",
              "      <td>12</td>\n",
              "      <td>Android</td>\n",
              "      <td>economy</td>\n",
              "      <td>no surge</td>\n",
              "      <td>1</td>\n",
              "      <td>1</td>\n",
              "      <td>1</td>\n",
              "      <td>1</td>\n",
              "      <td>0</td>\n",
              "      <td>0</td>\n",
              "      <td>4.273224</td>\n",
              "      <td>27</td>\n",
              "      <td>low</td>\n",
              "    </tr>\n",
              "    <tr>\n",
              "      <th>13</th>\n",
              "      <td>13</td>\n",
              "      <td>786923</td>\n",
              "      <td>23</td>\n",
              "      <td>Android</td>\n",
              "      <td>comfort</td>\n",
              "      <td>no surge</td>\n",
              "      <td>1</td>\n",
              "      <td>1</td>\n",
              "      <td>0</td>\n",
              "      <td>0</td>\n",
              "      <td>0</td>\n",
              "      <td>1</td>\n",
              "      <td>0.704415</td>\n",
              "      <td>21</td>\n",
              "      <td>low</td>\n",
              "    </tr>\n",
              "    <tr>\n",
              "      <th>14</th>\n",
              "      <td>14</td>\n",
              "      <td>382672</td>\n",
              "      <td>2</td>\n",
              "      <td>iOS</td>\n",
              "      <td>comfort</td>\n",
              "      <td>no surge</td>\n",
              "      <td>1</td>\n",
              "      <td>1</td>\n",
              "      <td>1</td>\n",
              "      <td>1</td>\n",
              "      <td>0</td>\n",
              "      <td>0</td>\n",
              "      <td>8.669202</td>\n",
              "      <td>18</td>\n",
              "      <td>high</td>\n",
              "    </tr>\n",
              "    <tr>\n",
              "      <th>15</th>\n",
              "      <td>15</td>\n",
              "      <td>893154</td>\n",
              "      <td>6</td>\n",
              "      <td>iOS</td>\n",
              "      <td>economy</td>\n",
              "      <td>no surge</td>\n",
              "      <td>1</td>\n",
              "      <td>1</td>\n",
              "      <td>1</td>\n",
              "      <td>1</td>\n",
              "      <td>0</td>\n",
              "      <td>0</td>\n",
              "      <td>3.563128</td>\n",
              "      <td>29</td>\n",
              "      <td>high</td>\n",
              "    </tr>\n",
              "    <tr>\n",
              "      <th>16</th>\n",
              "      <td>16</td>\n",
              "      <td>990097</td>\n",
              "      <td>2</td>\n",
              "      <td>Android</td>\n",
              "      <td>economy</td>\n",
              "      <td>no surge</td>\n",
              "      <td>1</td>\n",
              "      <td>1</td>\n",
              "      <td>1</td>\n",
              "      <td>1</td>\n",
              "      <td>0</td>\n",
              "      <td>1</td>\n",
              "      <td>5.766970</td>\n",
              "      <td>28</td>\n",
              "      <td>low</td>\n",
              "    </tr>\n",
              "    <tr>\n",
              "      <th>18</th>\n",
              "      <td>18</td>\n",
              "      <td>393096</td>\n",
              "      <td>23</td>\n",
              "      <td>Android</td>\n",
              "      <td>comfort</td>\n",
              "      <td>surge</td>\n",
              "      <td>1</td>\n",
              "      <td>1</td>\n",
              "      <td>0</td>\n",
              "      <td>0</td>\n",
              "      <td>0</td>\n",
              "      <td>1</td>\n",
              "      <td>2.523357</td>\n",
              "      <td>19</td>\n",
              "      <td>high</td>\n",
              "    </tr>\n",
              "    <tr>\n",
              "      <th>19</th>\n",
              "      <td>19</td>\n",
              "      <td>320419</td>\n",
              "      <td>3</td>\n",
              "      <td>Android</td>\n",
              "      <td>comfort</td>\n",
              "      <td>no surge</td>\n",
              "      <td>1</td>\n",
              "      <td>1</td>\n",
              "      <td>1</td>\n",
              "      <td>1</td>\n",
              "      <td>0</td>\n",
              "      <td>1</td>\n",
              "      <td>5.545119</td>\n",
              "      <td>22</td>\n",
              "      <td>low</td>\n",
              "    </tr>\n",
              "    <tr>\n",
              "      <th>20</th>\n",
              "      <td>20</td>\n",
              "      <td>877152</td>\n",
              "      <td>22</td>\n",
              "      <td>iOS</td>\n",
              "      <td>comfort</td>\n",
              "      <td>no surge</td>\n",
              "      <td>1</td>\n",
              "      <td>1</td>\n",
              "      <td>1</td>\n",
              "      <td>1</td>\n",
              "      <td>0</td>\n",
              "      <td>1</td>\n",
              "      <td>13.076742</td>\n",
              "      <td>27</td>\n",
              "      <td>low</td>\n",
              "    </tr>\n",
              "    <tr>\n",
              "      <th>21</th>\n",
              "      <td>21</td>\n",
              "      <td>103860</td>\n",
              "      <td>13</td>\n",
              "      <td>iOS</td>\n",
              "      <td>economy</td>\n",
              "      <td>surge</td>\n",
              "      <td>1</td>\n",
              "      <td>1</td>\n",
              "      <td>1</td>\n",
              "      <td>1</td>\n",
              "      <td>0</td>\n",
              "      <td>1</td>\n",
              "      <td>7.934002</td>\n",
              "      <td>21</td>\n",
              "      <td>high</td>\n",
              "    </tr>\n",
              "    <tr>\n",
              "      <th>22</th>\n",
              "      <td>22</td>\n",
              "      <td>667749</td>\n",
              "      <td>5</td>\n",
              "      <td>Android</td>\n",
              "      <td>business</td>\n",
              "      <td>no surge</td>\n",
              "      <td>1</td>\n",
              "      <td>1</td>\n",
              "      <td>1</td>\n",
              "      <td>0</td>\n",
              "      <td>1</td>\n",
              "      <td>1</td>\n",
              "      <td>5.612632</td>\n",
              "      <td>23</td>\n",
              "      <td>low</td>\n",
              "    </tr>\n",
              "    <tr>\n",
              "      <th>24</th>\n",
              "      <td>24</td>\n",
              "      <td>461185</td>\n",
              "      <td>21</td>\n",
              "      <td>iOS</td>\n",
              "      <td>economy</td>\n",
              "      <td>surge</td>\n",
              "      <td>1</td>\n",
              "      <td>1</td>\n",
              "      <td>1</td>\n",
              "      <td>1</td>\n",
              "      <td>0</td>\n",
              "      <td>1</td>\n",
              "      <td>1.590209</td>\n",
              "      <td>29</td>\n",
              "      <td>high</td>\n",
              "    </tr>\n",
              "    <tr>\n",
              "      <th>25</th>\n",
              "      <td>25</td>\n",
              "      <td>327683</td>\n",
              "      <td>11</td>\n",
              "      <td>Android</td>\n",
              "      <td>comfort</td>\n",
              "      <td>no surge</td>\n",
              "      <td>1</td>\n",
              "      <td>1</td>\n",
              "      <td>0</td>\n",
              "      <td>0</td>\n",
              "      <td>0</td>\n",
              "      <td>1</td>\n",
              "      <td>2.481234</td>\n",
              "      <td>30</td>\n",
              "      <td>low</td>\n",
              "    </tr>\n",
              "    <tr>\n",
              "      <th>26</th>\n",
              "      <td>26</td>\n",
              "      <td>824898</td>\n",
              "      <td>11</td>\n",
              "      <td>Android</td>\n",
              "      <td>economy</td>\n",
              "      <td>no surge</td>\n",
              "      <td>1</td>\n",
              "      <td>1</td>\n",
              "      <td>1</td>\n",
              "      <td>1</td>\n",
              "      <td>0</td>\n",
              "      <td>0</td>\n",
              "      <td>2.544092</td>\n",
              "      <td>19</td>\n",
              "      <td>low</td>\n",
              "    </tr>\n",
              "    <tr>\n",
              "      <th>27</th>\n",
              "      <td>27</td>\n",
              "      <td>654038</td>\n",
              "      <td>18</td>\n",
              "      <td>Android</td>\n",
              "      <td>economy</td>\n",
              "      <td>no surge</td>\n",
              "      <td>1</td>\n",
              "      <td>1</td>\n",
              "      <td>1</td>\n",
              "      <td>0</td>\n",
              "      <td>1</td>\n",
              "      <td>0</td>\n",
              "      <td>7.470499</td>\n",
              "      <td>21</td>\n",
              "      <td>high</td>\n",
              "    </tr>\n",
              "    <tr>\n",
              "      <th>28</th>\n",
              "      <td>28</td>\n",
              "      <td>902515</td>\n",
              "      <td>14</td>\n",
              "      <td>Android</td>\n",
              "      <td>economy</td>\n",
              "      <td>no surge</td>\n",
              "      <td>1</td>\n",
              "      <td>1</td>\n",
              "      <td>1</td>\n",
              "      <td>1</td>\n",
              "      <td>0</td>\n",
              "      <td>0</td>\n",
              "      <td>1.985884</td>\n",
              "      <td>24</td>\n",
              "      <td>low</td>\n",
              "    </tr>\n",
              "    <tr>\n",
              "      <th>29</th>\n",
              "      <td>29</td>\n",
              "      <td>634314</td>\n",
              "      <td>13</td>\n",
              "      <td>iOS</td>\n",
              "      <td>economy</td>\n",
              "      <td>no surge</td>\n",
              "      <td>1</td>\n",
              "      <td>1</td>\n",
              "      <td>1</td>\n",
              "      <td>1</td>\n",
              "      <td>0</td>\n",
              "      <td>1</td>\n",
              "      <td>2.994871</td>\n",
              "      <td>18</td>\n",
              "      <td>high</td>\n",
              "    </tr>\n",
              "    <tr>\n",
              "      <th>30</th>\n",
              "      <td>30</td>\n",
              "      <td>758449</td>\n",
              "      <td>15</td>\n",
              "      <td>iOS</td>\n",
              "      <td>economy</td>\n",
              "      <td>no surge</td>\n",
              "      <td>1</td>\n",
              "      <td>1</td>\n",
              "      <td>1</td>\n",
              "      <td>1</td>\n",
              "      <td>0</td>\n",
              "      <td>0</td>\n",
              "      <td>2.683326</td>\n",
              "      <td>22</td>\n",
              "      <td>high</td>\n",
              "    </tr>\n",
              "    <tr>\n",
              "      <th>31</th>\n",
              "      <td>31</td>\n",
              "      <td>311367</td>\n",
              "      <td>20</td>\n",
              "      <td>Android</td>\n",
              "      <td>comfort</td>\n",
              "      <td>surge</td>\n",
              "      <td>1</td>\n",
              "      <td>1</td>\n",
              "      <td>1</td>\n",
              "      <td>1</td>\n",
              "      <td>0</td>\n",
              "      <td>1</td>\n",
              "      <td>5.894584</td>\n",
              "      <td>22</td>\n",
              "      <td>high</td>\n",
              "    </tr>\n",
              "    <tr>\n",
              "      <th>32</th>\n",
              "      <td>32</td>\n",
              "      <td>201800</td>\n",
              "      <td>4</td>\n",
              "      <td>Android</td>\n",
              "      <td>economy</td>\n",
              "      <td>no surge</td>\n",
              "      <td>1</td>\n",
              "      <td>1</td>\n",
              "      <td>1</td>\n",
              "      <td>1</td>\n",
              "      <td>0</td>\n",
              "      <td>1</td>\n",
              "      <td>3.531417</td>\n",
              "      <td>18</td>\n",
              "      <td>high</td>\n",
              "    </tr>\n",
              "    <tr>\n",
              "      <th>33</th>\n",
              "      <td>33</td>\n",
              "      <td>963064</td>\n",
              "      <td>2</td>\n",
              "      <td>iOS</td>\n",
              "      <td>economy</td>\n",
              "      <td>no surge</td>\n",
              "      <td>1</td>\n",
              "      <td>1</td>\n",
              "      <td>1</td>\n",
              "      <td>1</td>\n",
              "      <td>0</td>\n",
              "      <td>1</td>\n",
              "      <td>4.075189</td>\n",
              "      <td>37</td>\n",
              "      <td>high</td>\n",
              "    </tr>\n",
              "    <tr>\n",
              "      <th>34</th>\n",
              "      <td>34</td>\n",
              "      <td>432398</td>\n",
              "      <td>1</td>\n",
              "      <td>iOS</td>\n",
              "      <td>economy</td>\n",
              "      <td>no surge</td>\n",
              "      <td>1</td>\n",
              "      <td>1</td>\n",
              "      <td>1</td>\n",
              "      <td>1</td>\n",
              "      <td>0</td>\n",
              "      <td>0</td>\n",
              "      <td>3.915895</td>\n",
              "      <td>20</td>\n",
              "      <td>low</td>\n",
              "    </tr>\n",
              "  </tbody>\n",
              "</table>\n",
              "</div>\n",
              "      <button class=\"colab-df-convert\" onclick=\"convertToInteractive('df-f4f45bb2-413d-41e3-8a1a-bb70a392606e')\"\n",
              "              title=\"Convert this dataframe to an interactive table.\"\n",
              "              style=\"display:none;\">\n",
              "        \n",
              "  <svg xmlns=\"http://www.w3.org/2000/svg\" height=\"24px\"viewBox=\"0 0 24 24\"\n",
              "       width=\"24px\">\n",
              "    <path d=\"M0 0h24v24H0V0z\" fill=\"none\"/>\n",
              "    <path d=\"M18.56 5.44l.94 2.06.94-2.06 2.06-.94-2.06-.94-.94-2.06-.94 2.06-2.06.94zm-11 1L8.5 8.5l.94-2.06 2.06-.94-2.06-.94L8.5 2.5l-.94 2.06-2.06.94zm10 10l.94 2.06.94-2.06 2.06-.94-2.06-.94-.94-2.06-.94 2.06-2.06.94z\"/><path d=\"M17.41 7.96l-1.37-1.37c-.4-.4-.92-.59-1.43-.59-.52 0-1.04.2-1.43.59L10.3 9.45l-7.72 7.72c-.78.78-.78 2.05 0 2.83L4 21.41c.39.39.9.59 1.41.59.51 0 1.02-.2 1.41-.59l7.78-7.78 2.81-2.81c.8-.78.8-2.07 0-2.86zM5.41 20L4 18.59l7.72-7.72 1.47 1.35L5.41 20z\"/>\n",
              "  </svg>\n",
              "      </button>\n",
              "      \n",
              "  <style>\n",
              "    .colab-df-container {\n",
              "      display:flex;\n",
              "      flex-wrap:wrap;\n",
              "      gap: 12px;\n",
              "    }\n",
              "\n",
              "    .colab-df-convert {\n",
              "      background-color: #E8F0FE;\n",
              "      border: none;\n",
              "      border-radius: 50%;\n",
              "      cursor: pointer;\n",
              "      display: none;\n",
              "      fill: #1967D2;\n",
              "      height: 32px;\n",
              "      padding: 0 0 0 0;\n",
              "      width: 32px;\n",
              "    }\n",
              "\n",
              "    .colab-df-convert:hover {\n",
              "      background-color: #E2EBFA;\n",
              "      box-shadow: 0px 1px 2px rgba(60, 64, 67, 0.3), 0px 1px 3px 1px rgba(60, 64, 67, 0.15);\n",
              "      fill: #174EA6;\n",
              "    }\n",
              "\n",
              "    [theme=dark] .colab-df-convert {\n",
              "      background-color: #3B4455;\n",
              "      fill: #D2E3FC;\n",
              "    }\n",
              "\n",
              "    [theme=dark] .colab-df-convert:hover {\n",
              "      background-color: #434B5C;\n",
              "      box-shadow: 0px 1px 3px 1px rgba(0, 0, 0, 0.15);\n",
              "      filter: drop-shadow(0px 1px 2px rgba(0, 0, 0, 0.3));\n",
              "      fill: #FFFFFF;\n",
              "    }\n",
              "  </style>\n",
              "\n",
              "      <script>\n",
              "        const buttonEl =\n",
              "          document.querySelector('#df-f4f45bb2-413d-41e3-8a1a-bb70a392606e button.colab-df-convert');\n",
              "        buttonEl.style.display =\n",
              "          google.colab.kernel.accessAllowed ? 'block' : 'none';\n",
              "\n",
              "        async function convertToInteractive(key) {\n",
              "          const element = document.querySelector('#df-f4f45bb2-413d-41e3-8a1a-bb70a392606e');\n",
              "          const dataTable =\n",
              "            await google.colab.kernel.invokeFunction('convertToInteractive',\n",
              "                                                     [key], {});\n",
              "          if (!dataTable) return;\n",
              "\n",
              "          const docLinkHtml = 'Like what you see? Visit the ' +\n",
              "            '<a target=\"_blank\" href=https://colab.research.google.com/notebooks/data_table.ipynb>data table notebook</a>'\n",
              "            + ' to learn more about interactive tables.';\n",
              "          element.innerHTML = '';\n",
              "          dataTable['output_type'] = 'display_data';\n",
              "          await google.colab.output.renderOutput(dataTable, element);\n",
              "          const docLink = document.createElement('div');\n",
              "          docLink.innerHTML = docLinkHtml;\n",
              "          element.appendChild(docLink);\n",
              "        }\n",
              "      </script>\n",
              "    </div>\n",
              "  </div>\n",
              "  "
            ]
          },
          "metadata": {},
          "execution_count": 3
        }
      ],
      "source": [
        "reester = reester.dropna()\n",
        "reester.head(30)"
      ]
    },
    {
      "cell_type": "code",
      "execution_count": null,
      "metadata": {
        "colab": {
          "background_save": true
        },
        "id": "1R8SIjJBReXN",
        "outputId": "27fa5e20-107b-48d2-a782-6269eb6445a7"
      },
      "outputs": [
        {
          "data": {
            "text/plain": [
              "(91431, 15)"
            ]
          },
          "execution_count": 18,
          "metadata": {},
          "output_type": "execute_result"
        }
      ],
      "source": [
        "reester.shape"
      ]
    },
    {
      "cell_type": "code",
      "execution_count": null,
      "metadata": {
        "colab": {
          "background_save": true
        },
        "id": "6-adRrY1EmV5",
        "outputId": "61813e11-e585-4737-abb8-f143aea6fa64"
      },
      "outputs": [
        {
          "data": {
            "text/plain": [
              "user_id    45715.5\n",
              "dtype: float64"
            ]
          },
          "execution_count": 19,
          "metadata": {},
          "output_type": "execute_result"
        }
      ],
      "source": [
        "reester_order = reester[['user_id','order_made']].groupby('order_made').count()\n",
        "reester_order.median()"
      ]
    },
    {
      "cell_type": "markdown",
      "metadata": {
        "id": "VolQUJ_c8wld"
      },
      "source": [
        "### Здесь начинается онализ основновных показателей статистики метрик"
      ]
    },
    {
      "cell_type": "code",
      "execution_count": null,
      "metadata": {
        "colab": {
          "base_uri": "https://localhost:8080/",
          "height": 424
        },
        "id": "4goX-ew8-elm",
        "outputId": "5725c1cf-93cc-4f19-b559-0019caa1da5c"
      },
      "outputs": [
        {
          "output_type": "execute_result",
          "data": {
            "text/plain": [
              "        user_id   distance\n",
              "0        867689   7.982135\n",
              "1        752172   2.908468\n",
              "2        486559   7.224614\n",
              "3        304024   1.874349\n",
              "4        139420  10.704778\n",
              "...         ...        ...\n",
              "101495   288445   1.725907\n",
              "101496   627754   6.206134\n",
              "101497   784442   6.624225\n",
              "101498   232993   8.825188\n",
              "101499   337225   0.882172\n",
              "\n",
              "[83670 rows x 2 columns]"
            ],
            "text/html": [
              "\n",
              "  <div id=\"df-0f4d866d-9530-4a71-88fe-73d97ca16161\">\n",
              "    <div class=\"colab-df-container\">\n",
              "      <div>\n",
              "<style scoped>\n",
              "    .dataframe tbody tr th:only-of-type {\n",
              "        vertical-align: middle;\n",
              "    }\n",
              "\n",
              "    .dataframe tbody tr th {\n",
              "        vertical-align: top;\n",
              "    }\n",
              "\n",
              "    .dataframe thead th {\n",
              "        text-align: right;\n",
              "    }\n",
              "</style>\n",
              "<table border=\"1\" class=\"dataframe\">\n",
              "  <thead>\n",
              "    <tr style=\"text-align: right;\">\n",
              "      <th></th>\n",
              "      <th>user_id</th>\n",
              "      <th>distance</th>\n",
              "    </tr>\n",
              "  </thead>\n",
              "  <tbody>\n",
              "    <tr>\n",
              "      <th>0</th>\n",
              "      <td>867689</td>\n",
              "      <td>7.982135</td>\n",
              "    </tr>\n",
              "    <tr>\n",
              "      <th>1</th>\n",
              "      <td>752172</td>\n",
              "      <td>2.908468</td>\n",
              "    </tr>\n",
              "    <tr>\n",
              "      <th>2</th>\n",
              "      <td>486559</td>\n",
              "      <td>7.224614</td>\n",
              "    </tr>\n",
              "    <tr>\n",
              "      <th>3</th>\n",
              "      <td>304024</td>\n",
              "      <td>1.874349</td>\n",
              "    </tr>\n",
              "    <tr>\n",
              "      <th>4</th>\n",
              "      <td>139420</td>\n",
              "      <td>10.704778</td>\n",
              "    </tr>\n",
              "    <tr>\n",
              "      <th>...</th>\n",
              "      <td>...</td>\n",
              "      <td>...</td>\n",
              "    </tr>\n",
              "    <tr>\n",
              "      <th>101495</th>\n",
              "      <td>288445</td>\n",
              "      <td>1.725907</td>\n",
              "    </tr>\n",
              "    <tr>\n",
              "      <th>101496</th>\n",
              "      <td>627754</td>\n",
              "      <td>6.206134</td>\n",
              "    </tr>\n",
              "    <tr>\n",
              "      <th>101497</th>\n",
              "      <td>784442</td>\n",
              "      <td>6.624225</td>\n",
              "    </tr>\n",
              "    <tr>\n",
              "      <th>101498</th>\n",
              "      <td>232993</td>\n",
              "      <td>8.825188</td>\n",
              "    </tr>\n",
              "    <tr>\n",
              "      <th>101499</th>\n",
              "      <td>337225</td>\n",
              "      <td>0.882172</td>\n",
              "    </tr>\n",
              "  </tbody>\n",
              "</table>\n",
              "<p>83670 rows × 2 columns</p>\n",
              "</div>\n",
              "      <button class=\"colab-df-convert\" onclick=\"convertToInteractive('df-0f4d866d-9530-4a71-88fe-73d97ca16161')\"\n",
              "              title=\"Convert this dataframe to an interactive table.\"\n",
              "              style=\"display:none;\">\n",
              "        \n",
              "  <svg xmlns=\"http://www.w3.org/2000/svg\" height=\"24px\"viewBox=\"0 0 24 24\"\n",
              "       width=\"24px\">\n",
              "    <path d=\"M0 0h24v24H0V0z\" fill=\"none\"/>\n",
              "    <path d=\"M18.56 5.44l.94 2.06.94-2.06 2.06-.94-2.06-.94-.94-2.06-.94 2.06-2.06.94zm-11 1L8.5 8.5l.94-2.06 2.06-.94-2.06-.94L8.5 2.5l-.94 2.06-2.06.94zm10 10l.94 2.06.94-2.06 2.06-.94-2.06-.94-.94-2.06-.94 2.06-2.06.94z\"/><path d=\"M17.41 7.96l-1.37-1.37c-.4-.4-.92-.59-1.43-.59-.52 0-1.04.2-1.43.59L10.3 9.45l-7.72 7.72c-.78.78-.78 2.05 0 2.83L4 21.41c.39.39.9.59 1.41.59.51 0 1.02-.2 1.41-.59l7.78-7.78 2.81-2.81c.8-.78.8-2.07 0-2.86zM5.41 20L4 18.59l7.72-7.72 1.47 1.35L5.41 20z\"/>\n",
              "  </svg>\n",
              "      </button>\n",
              "      \n",
              "  <style>\n",
              "    .colab-df-container {\n",
              "      display:flex;\n",
              "      flex-wrap:wrap;\n",
              "      gap: 12px;\n",
              "    }\n",
              "\n",
              "    .colab-df-convert {\n",
              "      background-color: #E8F0FE;\n",
              "      border: none;\n",
              "      border-radius: 50%;\n",
              "      cursor: pointer;\n",
              "      display: none;\n",
              "      fill: #1967D2;\n",
              "      height: 32px;\n",
              "      padding: 0 0 0 0;\n",
              "      width: 32px;\n",
              "    }\n",
              "\n",
              "    .colab-df-convert:hover {\n",
              "      background-color: #E2EBFA;\n",
              "      box-shadow: 0px 1px 2px rgba(60, 64, 67, 0.3), 0px 1px 3px 1px rgba(60, 64, 67, 0.15);\n",
              "      fill: #174EA6;\n",
              "    }\n",
              "\n",
              "    [theme=dark] .colab-df-convert {\n",
              "      background-color: #3B4455;\n",
              "      fill: #D2E3FC;\n",
              "    }\n",
              "\n",
              "    [theme=dark] .colab-df-convert:hover {\n",
              "      background-color: #434B5C;\n",
              "      box-shadow: 0px 1px 3px 1px rgba(0, 0, 0, 0.15);\n",
              "      filter: drop-shadow(0px 1px 2px rgba(0, 0, 0, 0.3));\n",
              "      fill: #FFFFFF;\n",
              "    }\n",
              "  </style>\n",
              "\n",
              "      <script>\n",
              "        const buttonEl =\n",
              "          document.querySelector('#df-0f4d866d-9530-4a71-88fe-73d97ca16161 button.colab-df-convert');\n",
              "        buttonEl.style.display =\n",
              "          google.colab.kernel.accessAllowed ? 'block' : 'none';\n",
              "\n",
              "        async function convertToInteractive(key) {\n",
              "          const element = document.querySelector('#df-0f4d866d-9530-4a71-88fe-73d97ca16161');\n",
              "          const dataTable =\n",
              "            await google.colab.kernel.invokeFunction('convertToInteractive',\n",
              "                                                     [key], {});\n",
              "          if (!dataTable) return;\n",
              "\n",
              "          const docLinkHtml = 'Like what you see? Visit the ' +\n",
              "            '<a target=\"_blank\" href=https://colab.research.google.com/notebooks/data_table.ipynb>data table notebook</a>'\n",
              "            + ' to learn more about interactive tables.';\n",
              "          element.innerHTML = '';\n",
              "          dataTable['output_type'] = 'display_data';\n",
              "          await google.colab.output.renderOutput(dataTable, element);\n",
              "          const docLink = document.createElement('div');\n",
              "          docLink.innerHTML = docLinkHtml;\n",
              "          element.appendChild(docLink);\n",
              "        }\n",
              "      </script>\n",
              "    </div>\n",
              "  </div>\n",
              "  "
            ]
          },
          "metadata": {},
          "execution_count": 4
        }
      ],
      "source": [
        "reester_distance = reester[['user_id','distance']].groupby('user_id')\n",
        "reester_distance.head()"
      ]
    },
    {
      "cell_type": "code",
      "execution_count": null,
      "metadata": {
        "colab": {
          "background_save": true
        },
        "id": "b-W4JWkU7GNA",
        "outputId": "4057928d-ca1d-495e-f49e-0b36c4bdb8e7"
      },
      "outputs": [
        {
          "data": {
            "text/plain": [
              "5.371151996435624"
            ]
          },
          "execution_count": 21,
          "metadata": {},
          "output_type": "execute_result"
        }
      ],
      "source": [
        "reester['distance'].mean() # mean distance"
      ]
    },
    {
      "cell_type": "code",
      "execution_count": null,
      "metadata": {
        "colab": {
          "background_save": true
        },
        "id": "GdJShNtK7PT2",
        "outputId": "9a99cd99-0a33-429f-a409-c57939a023c0"
      },
      "outputs": [
        {
          "data": {
            "text/plain": [
              "4.279564564612159"
            ]
          },
          "execution_count": 22,
          "metadata": {},
          "output_type": "execute_result"
        }
      ],
      "source": [
        "reester['distance'].median() # median distance"
      ]
    },
    {
      "cell_type": "code",
      "execution_count": null,
      "metadata": {
        "colab": {
          "background_save": true
        },
        "id": "5-6tFY3y8cTZ",
        "outputId": "2e6024a5-7170-4b0f-af24-daff86bd16cd"
      },
      "outputs": [
        {
          "data": {
            "text/plain": [
              "13.694289876456235"
            ]
          },
          "execution_count": 23,
          "metadata": {},
          "output_type": "execute_result"
        }
      ],
      "source": [
        "np.percentile(reester['distance'],95) # 95 precenile distance"
      ]
    },
    {
      "cell_type": "code",
      "execution_count": null,
      "metadata": {
        "colab": {
          "background_save": true
        },
        "id": "GK4zJl1I8AMe",
        "outputId": "316e68da-9345-4c07-eab4-f08bcc2f564b"
      },
      "outputs": [
        {
          "data": {
            "text/plain": [
              "<matplotlib.axes._subplots.AxesSubplot at 0x7f44a90d0150>"
            ]
          },
          "execution_count": 24,
          "metadata": {},
          "output_type": "execute_result"
        },
        {
          "data": {
            "image/png": "[encoded data removed]",
            "text/plain": [
              "<Figure size 432x288 with 1 Axes>"
            ]
          },
          "metadata": {},
          "output_type": "display_data"
        }
      ],
      "source": [
        "reester['distance'].plot(kind='box',\n",
        "                   title='Распределение дистанций поездок', grid=True)"
      ]
    },
    {
      "cell_type": "markdown",
      "metadata": {
        "id": "_xRGA77jKQSd"
      },
      "source": [
        "Баг с кнопками заказа"
      ]
    },
    {
      "cell_type": "code",
      "execution_count": null,
      "metadata": {
        "colab": {
          "background_save": true
        },
        "id": "SERvuf9YXiMd",
        "outputId": "6bdcbf3c-f11a-4528-a052-25927a6248e1"
      },
      "outputs": [
        {
          "data": {
            "text/html": [
              "\n",
              "  <div id=\"df-395cd0d1-40c8-45eb-b8b6-8b4ccd173b73\">\n",
              "    <div class=\"colab-df-container\">\n",
              "      <div>\n",
              "<style scoped>\n",
              "    .dataframe tbody tr th:only-of-type {\n",
              "        vertical-align: middle;\n",
              "    }\n",
              "\n",
              "    .dataframe tbody tr th {\n",
              "        vertical-align: top;\n",
              "    }\n",
              "\n",
              "    .dataframe thead th {\n",
              "        text-align: right;\n",
              "    }\n",
              "</style>\n",
              "<table border=\"1\" class=\"dataframe\">\n",
              "  <thead>\n",
              "    <tr style=\"text-align: right;\">\n",
              "      <th></th>\n",
              "      <th>Unnamed: 0</th>\n",
              "      <th>user_id</th>\n",
              "      <th>hour</th>\n",
              "      <th>os</th>\n",
              "      <th>order_class</th>\n",
              "      <th>surge</th>\n",
              "      <th>app_opened</th>\n",
              "      <th>price_seen</th>\n",
              "      <th>order_made</th>\n",
              "      <th>ride_completed</th>\n",
              "      <th>user_cancelled</th>\n",
              "      <th>city_center_order</th>\n",
              "      <th>distance</th>\n",
              "      <th>age</th>\n",
              "      <th>rfm</th>\n",
              "    </tr>\n",
              "  </thead>\n",
              "  <tbody>\n",
              "    <tr>\n",
              "      <th>22</th>\n",
              "      <td>22</td>\n",
              "      <td>667749</td>\n",
              "      <td>5</td>\n",
              "      <td>Android</td>\n",
              "      <td>business</td>\n",
              "      <td>no surge</td>\n",
              "      <td>1</td>\n",
              "      <td>1</td>\n",
              "      <td>1</td>\n",
              "      <td>0</td>\n",
              "      <td>1</td>\n",
              "      <td>1</td>\n",
              "      <td>5.612632</td>\n",
              "      <td>23</td>\n",
              "      <td>low</td>\n",
              "    </tr>\n",
              "    <tr>\n",
              "      <th>27</th>\n",
              "      <td>27</td>\n",
              "      <td>654038</td>\n",
              "      <td>18</td>\n",
              "      <td>Android</td>\n",
              "      <td>economy</td>\n",
              "      <td>no surge</td>\n",
              "      <td>1</td>\n",
              "      <td>1</td>\n",
              "      <td>1</td>\n",
              "      <td>0</td>\n",
              "      <td>1</td>\n",
              "      <td>0</td>\n",
              "      <td>7.470499</td>\n",
              "      <td>21</td>\n",
              "      <td>high</td>\n",
              "    </tr>\n",
              "    <tr>\n",
              "      <th>48</th>\n",
              "      <td>48</td>\n",
              "      <td>732720</td>\n",
              "      <td>14</td>\n",
              "      <td>Android</td>\n",
              "      <td>economy</td>\n",
              "      <td>no surge</td>\n",
              "      <td>1</td>\n",
              "      <td>1</td>\n",
              "      <td>1</td>\n",
              "      <td>0</td>\n",
              "      <td>1</td>\n",
              "      <td>0</td>\n",
              "      <td>6.110571</td>\n",
              "      <td>19</td>\n",
              "      <td>low</td>\n",
              "    </tr>\n",
              "    <tr>\n",
              "      <th>57</th>\n",
              "      <td>57</td>\n",
              "      <td>376141</td>\n",
              "      <td>9</td>\n",
              "      <td>Android</td>\n",
              "      <td>economy</td>\n",
              "      <td>surge</td>\n",
              "      <td>1</td>\n",
              "      <td>1</td>\n",
              "      <td>1</td>\n",
              "      <td>0</td>\n",
              "      <td>1</td>\n",
              "      <td>1</td>\n",
              "      <td>2.640953</td>\n",
              "      <td>32</td>\n",
              "      <td>low</td>\n",
              "    </tr>\n",
              "    <tr>\n",
              "      <th>79</th>\n",
              "      <td>79</td>\n",
              "      <td>317225</td>\n",
              "      <td>5</td>\n",
              "      <td>Android</td>\n",
              "      <td>comfort</td>\n",
              "      <td>surge</td>\n",
              "      <td>1</td>\n",
              "      <td>1</td>\n",
              "      <td>1</td>\n",
              "      <td>0</td>\n",
              "      <td>1</td>\n",
              "      <td>1</td>\n",
              "      <td>5.642499</td>\n",
              "      <td>24</td>\n",
              "      <td>high</td>\n",
              "    </tr>\n",
              "  </tbody>\n",
              "</table>\n",
              "</div>\n",
              "      <button class=\"colab-df-convert\" onclick=\"convertToInteractive('df-395cd0d1-40c8-45eb-b8b6-8b4ccd173b73')\"\n",
              "              title=\"Convert this dataframe to an interactive table.\"\n",
              "              style=\"display:none;\">\n",
              "        \n",
              "  <svg xmlns=\"http://www.w3.org/2000/svg\" height=\"24px\"viewBox=\"0 0 24 24\"\n",
              "       width=\"24px\">\n",
              "    <path d=\"M0 0h24v24H0V0z\" fill=\"none\"/>\n",
              "    <path d=\"M18.56 5.44l.94 2.06.94-2.06 2.06-.94-2.06-.94-.94-2.06-.94 2.06-2.06.94zm-11 1L8.5 8.5l.94-2.06 2.06-.94-2.06-.94L8.5 2.5l-.94 2.06-2.06.94zm10 10l.94 2.06.94-2.06 2.06-.94-2.06-.94-.94-2.06-.94 2.06-2.06.94z\"/><path d=\"M17.41 7.96l-1.37-1.37c-.4-.4-.92-.59-1.43-.59-.52 0-1.04.2-1.43.59L10.3 9.45l-7.72 7.72c-.78.78-.78 2.05 0 2.83L4 21.41c.39.39.9.59 1.41.59.51 0 1.02-.2 1.41-.59l7.78-7.78 2.81-2.81c.8-.78.8-2.07 0-2.86zM5.41 20L4 18.59l7.72-7.72 1.47 1.35L5.41 20z\"/>\n",
              "  </svg>\n",
              "      </button>\n",
              "      \n",
              "  <style>\n",
              "    .colab-df-container {\n",
              "      display:flex;\n",
              "      flex-wrap:wrap;\n",
              "      gap: 12px;\n",
              "    }\n",
              "\n",
              "    .colab-df-convert {\n",
              "      background-color: #E8F0FE;\n",
              "      border: none;\n",
              "      border-radius: 50%;\n",
              "      cursor: pointer;\n",
              "      display: none;\n",
              "      fill: #1967D2;\n",
              "      height: 32px;\n",
              "      padding: 0 0 0 0;\n",
              "      width: 32px;\n",
              "    }\n",
              "\n",
              "    .colab-df-convert:hover {\n",
              "      background-color: #E2EBFA;\n",
              "      box-shadow: 0px 1px 2px rgba(60, 64, 67, 0.3), 0px 1px 3px 1px rgba(60, 64, 67, 0.15);\n",
              "      fill: #174EA6;\n",
              "    }\n",
              "\n",
              "    [theme=dark] .colab-df-convert {\n",
              "      background-color: #3B4455;\n",
              "      fill: #D2E3FC;\n",
              "    }\n",
              "\n",
              "    [theme=dark] .colab-df-convert:hover {\n",
              "      background-color: #434B5C;\n",
              "      box-shadow: 0px 1px 3px 1px rgba(0, 0, 0, 0.15);\n",
              "      filter: drop-shadow(0px 1px 2px rgba(0, 0, 0, 0.3));\n",
              "      fill: #FFFFFF;\n",
              "    }\n",
              "  </style>\n",
              "\n",
              "      <script>\n",
              "        const buttonEl =\n",
              "          document.querySelector('#df-395cd0d1-40c8-45eb-b8b6-8b4ccd173b73 button.colab-df-convert');\n",
              "        buttonEl.style.display =\n",
              "          google.colab.kernel.accessAllowed ? 'block' : 'none';\n",
              "\n",
              "        async function convertToInteractive(key) {\n",
              "          const element = document.querySelector('#df-395cd0d1-40c8-45eb-b8b6-8b4ccd173b73');\n",
              "          const dataTable =\n",
              "            await google.colab.kernel.invokeFunction('convertToInteractive',\n",
              "                                                     [key], {});\n",
              "          if (!dataTable) return;\n",
              "\n",
              "          const docLinkHtml = 'Like what you see? Visit the ' +\n",
              "            '<a target=\"_blank\" href=https://colab.research.google.com/notebooks/data_table.ipynb>data table notebook</a>'\n",
              "            + ' to learn more about interactive tables.';\n",
              "          element.innerHTML = '';\n",
              "          dataTable['output_type'] = 'display_data';\n",
              "          await google.colab.output.renderOutput(dataTable, element);\n",
              "          const docLink = document.createElement('div');\n",
              "          docLink.innerHTML = docLinkHtml;\n",
              "          element.appendChild(docLink);\n",
              "        }\n",
              "      </script>\n",
              "    </div>\n",
              "  </div>\n",
              "  "
            ],
            "text/plain": [
              "    Unnamed: 0  user_id  hour       os order_class     surge  app_opened  \\\n",
              "22          22   667749     5  Android    business  no surge           1   \n",
              "27          27   654038    18  Android     economy  no surge           1   \n",
              "48          48   732720    14  Android     economy  no surge           1   \n",
              "57          57   376141     9  Android     economy     surge           1   \n",
              "79          79   317225     5  Android     comfort     surge           1   \n",
              "\n",
              "    price_seen  order_made  ride_completed  user_cancelled  city_center_order  \\\n",
              "22           1           1               0               1                  1   \n",
              "27           1           1               0               1                  0   \n",
              "48           1           1               0               1                  0   \n",
              "57           1           1               0               1                  1   \n",
              "79           1           1               0               1                  1   \n",
              "\n",
              "    distance  age   rfm  \n",
              "22  5.612632   23   low  \n",
              "27  7.470499   21  high  \n",
              "48  6.110571   19   low  \n",
              "57  2.640953   32   low  \n",
              "79  5.642499   24  high  "
            ]
          },
          "execution_count": 25,
          "metadata": {},
          "output_type": "execute_result"
        }
      ],
      "source": [
        "reester_canceled = reester[reester['user_cancelled']==1]\n",
        "reester_canceled.head()"
      ]
    },
    {
      "cell_type": "code",
      "execution_count": null,
      "metadata": {
        "id": "t-Ttj16vMLsV"
      },
      "outputs": [],
      "source": [
        "reester_order_made = reester[reester['order_made'] == 1]\n",
        "reester_order_made.head()"
      ]
    },
    {
      "cell_type": "code",
      "execution_count": null,
      "metadata": {
        "id": "J5IP4M3MOX_f"
      },
      "outputs": [],
      "source": [
        "reester_order_made_rfm = reester_order_made[['user_id','rfm']].groupby('rfm').count()\n",
        "rfm_proc = (reester_order_made_rfm['user_id']/ reester_order_made_rfm['user_id'].sum()) * 100\n",
        "reester_order_made_rfm['%'] = rfm_proc\n",
        "reester_order_made_rfm.head()"
      ]
    },
    {
      "cell_type": "code",
      "execution_count": null,
      "metadata": {
        "id": "XJB6iIuvMjQj"
      },
      "outputs": [],
      "source": [
        "reester_cancelled_order = reester_order_made[['user_id', 'user_cancelled']].groupby('user_cancelled').count()\n",
        "cancel_proc = (reester_cancelled_order['user_id']/ reester_cancelled_order['user_id'].sum()) * 100\n",
        "reester_cancelled_order['%'] = cancel_proc\n",
        "reester_cancelled_order.head()"
      ]
    },
    {
      "cell_type": "code",
      "execution_count": null,
      "metadata": {
        "id": "n4CJSAWMGvAm"
      },
      "outputs": [],
      "source": [
        "reester_hour = reester[['Unnamed: 0','hour']].groupby('hour').count()\n",
        "reester_hour_1 = reester_hour.plot()"
      ]
    },
    {
      "cell_type": "code",
      "execution_count": null,
      "metadata": {
        "id": "5ZtQ1XDbWaOb"
      },
      "outputs": [],
      "source": [
        "reester_age = reester['age'].mean()\n",
        "reester_age"
      ]
    },
    {
      "cell_type": "code",
      "execution_count": null,
      "metadata": {
        "id": "cocDBevLbvDu"
      },
      "outputs": [],
      "source": [
        "reester_time = reester[['hour','user_id']].groupby('hour').count()\n",
        "reester_time_proc = (reester_time['user_id']/ reester_time['user_id'].sum()) * 100\n",
        "reester_time['%'] = reester_time_proc\n",
        "reester_time.head(23)"
      ]
    },
    {
      "cell_type": "code",
      "execution_count": null,
      "metadata": {
        "id": "diPzto6hHTNn"
      },
      "outputs": [],
      "source": [
        "reester_time.plot()"
      ]
    },
    {
      "cell_type": "code",
      "execution_count": null,
      "metadata": {
        "id": "cyFUZDH3bGTV"
      },
      "outputs": [],
      "source": [
        "reester_os = reester[['user_id', 'os']].groupby('os').count()\n",
        "reester_os"
      ]
    },
    {
      "cell_type": "code",
      "execution_count": null,
      "metadata": {
        "id": "4jbpwVDZ7Jex"
      },
      "outputs": [],
      "source": [
        "reester_open = reester[['user_id', 'order_made']].groupby('order_made').count()\n",
        "reester_open"
      ]
    },
    {
      "cell_type": "markdown",
      "metadata": {
        "id": "kyeBvjSzyy_T"
      },
      "source": [
        "Средний возраст клиента 26 лет"
      ]
    },
    {
      "cell_type": "code",
      "execution_count": null,
      "metadata": {
        "id": "D5PuEvyg4-sd"
      },
      "outputs": [],
      "source": [
        "reester_cancelled = reester[['user_id'], ['user_cancelled' == 0]].groupby('user_cancelled').count()\n",
        "\n",
        "reester_cancelled.head()"
      ]
    },
    {
      "cell_type": "markdown",
      "metadata": {
        "id": "zAKZI-nk7blJ"
      },
      "source": [
        "11.1% заказов отмененны. В чем причина такого большого процента"
      ]
    },
    {
      "cell_type": "code",
      "execution_count": null,
      "metadata": {
        "id": "v2FVaXrR6FGQ"
      },
      "outputs": [],
      "source": [
        "reester_cancelled.mean()"
      ]
    },
    {
      "cell_type": "code",
      "execution_count": null,
      "metadata": {
        "id": "JLouUlWC8fK9"
      },
      "outputs": [],
      "source": [
        "# выведим все отмененные заказы, чтобы проанализировать закономерности почему поездки отмененны\n",
        "reester_cancel = reester[reester['user_cancelled'] == 1]\n",
        "reester_cancel.head()"
      ]
    },
    {
      "cell_type": "code",
      "execution_count": null,
      "metadata": {
        "id": "sgHLzdUaCErB"
      },
      "outputs": [],
      "source": [
        "#посмотрим на заказы, когда был повышающий коэффициент\n",
        "reester_surge = reester[reester['surge'] == 'surge']\n",
        "reester_surge.head(20)"
      ]
    },
    {
      "cell_type": "code",
      "execution_count": null,
      "metadata": {
        "id": "ttpfkGUfOpzP"
      },
      "outputs": [],
      "source": [
        "reester_surge_rfm = reester_surge[['Unnamed: 0','rfm']].groupby('rfm').count()\n",
        "reester_surge_rfm.head()"
      ]
    },
    {
      "cell_type": "code",
      "execution_count": null,
      "metadata": {
        "id": "D9BQjlSxKmgE"
      },
      "outputs": [],
      "source": [
        "# количество отмененных заказов с повышенным коэфф\n",
        "reester_surge_hour = reester_surge[['Unnamed: 0','user_cancelled']].groupby('user_cancelled').count()\n",
        "reester_surge_hour"
      ]
    },
    {
      "cell_type": "code",
      "execution_count": null,
      "metadata": {
        "id": "9nO-c9OpC26B"
      },
      "outputs": [],
      "source": [
        "# количество отмененных заказов с повышенным коэфф\n",
        "reester_surge_cancel = reester_surge[reester_surge['user_cancelled'] == 1]\n",
        "reester_surge_cancel.head()"
      ]
    },
    {
      "cell_type": "code",
      "execution_count": null,
      "metadata": {
        "id": "pMthR1sjQJV7"
      },
      "outputs": [],
      "source": [
        "reester_rfm = reester[['Unnamed: 0','rfm']].groupby('rfm').count()\n",
        "reester_rfm"
      ]
    },
    {
      "cell_type": "code",
      "execution_count": null,
      "metadata": {
        "id": "yi_hLdKePGqb"
      },
      "outputs": [],
      "source": [
        "# Категории пользователей, которые отменяют заказы при высоком спросе\n",
        "reester_surge_cancel_rfm = reester_surge_cancel[['Unnamed: 0','rfm']].groupby('rfm').count()\n",
        "reester_surge_cancel_rfm"
      ]
    },
    {
      "cell_type": "code",
      "execution_count": null,
      "metadata": {
        "id": "NeyOedZkDk5m"
      },
      "outputs": [],
      "source": [
        "#количество заказов по времени\n",
        "reester_surge_count = reester_surge[['Unnamed: 0','hour']].groupby('hour').count()\n",
        "reester_surge_count.head(23)"
      ]
    },
    {
      "cell_type": "markdown",
      "metadata": {
        "id": "L7SHEpO0D-58"
      },
      "source": [
        "При повышающем коэффициенте больше всего отказов с 7 до 10 и с 19 до 22"
      ]
    },
    {
      "cell_type": "code",
      "execution_count": null,
      "metadata": {
        "id": "9PAU3DqEEZwT"
      },
      "outputs": [],
      "source": []
    },
    {
      "cell_type": "code",
      "execution_count": null,
      "metadata": {
        "id": "pfSQduJZKsQa"
      },
      "outputs": [],
      "source": [
        "reester_surge_count.plot()"
      ]
    },
    {
      "cell_type": "code",
      "execution_count": null,
      "metadata": {
        "id": "jxJIh7xjCb8C"
      },
      "outputs": [],
      "source": [
        "#когда открыто приложение\n",
        "reester_opendapp = reester[reester['app_opened'] == 1]\n",
        "reester_opendapp.head()"
      ]
    },
    {
      "cell_type": "code",
      "execution_count": null,
      "metadata": {
        "id": "UJAx9Zw9CyPq"
      },
      "outputs": [],
      "source": [
        "len(reester)"
      ]
    },
    {
      "cell_type": "code",
      "execution_count": null,
      "metadata": {
        "id": "RAhy3UNTCtjo"
      },
      "outputs": [],
      "source": [
        "len(reester_opendapp)"
      ]
    },
    {
      "cell_type": "code",
      "execution_count": null,
      "metadata": {
        "id": "VJyu4U_8Z6F4"
      },
      "outputs": [],
      "source": [
        "reester_cancel_price = reester_cancel[['Unnamed: 0','hour']].groupby('hour').count()\n",
        "reester_cancel_price.head(24)"
      ]
    },
    {
      "cell_type": "code",
      "execution_count": null,
      "metadata": {
        "id": "o3hh-y-BFV5x"
      },
      "outputs": [],
      "source": [
        "reester_cancel_price.plot(title='Динамика отказов за сутки',\n",
        "                                        xlabel='Кол-во отказов', \n",
        "                                        ylabel='время')\n",
        "\n",
        "reester_hour_1"
      ]
    },
    {
      "cell_type": "code",
      "execution_count": null,
      "metadata": {
        "id": "9XeAz1lgJEiS"
      },
      "outputs": [],
      "source": [
        "reester_hour = reester[['Unnamed: 0','hour']].groupby('hour').count()\n",
        "reester_hour_1 = reester_hour.plot(title='Динамика заказов за сутки',\n",
        "                                        xlabel='Кол-во заказов', \n",
        "                                        ylabel='время')\n",
        "\n",
        "reester_surge_count.plot(title='Динамика отказов за сутки c dscjrbv',\n",
        "                                        xlabel='Кол-во отказов', \n",
        "                                        ylabel='время')\n",
        "\n",
        "reester_cancel_price.plot(title='Динамика отказов за сутки',\n",
        "                                        xlabel='Кол-во отказов', \n",
        "                                        ylabel='время')"
      ]
    },
    {
      "cell_type": "markdown",
      "metadata": {
        "id": "BstsT1K2F9Qe"
      },
      "source": []
    },
    {
      "cell_type": "code",
      "execution_count": null,
      "metadata": {
        "id": "QlAgoGKqTC_S"
      },
      "outputs": [],
      "source": [
        "reester_cancel_class = reester_cancel[['user_id','order_class']].groupby('order_class').count()\n",
        "reester_cancel_class.head()"
      ]
    },
    {
      "cell_type": "code",
      "execution_count": null,
      "metadata": {
        "id": "tXuleG-aTg-P"
      },
      "outputs": [],
      "source": [
        "reester_cancel_center = reester_cancel[['user_id','city_center_order']].groupby('city_center_order').count()\n",
        "reester_cancel_center.head()"
      ]
    },
    {
      "cell_type": "code",
      "execution_count": null,
      "metadata": {
        "id": "V0W6PzvKTsyS"
      },
      "outputs": [],
      "source": [
        "reester_high = reester[reester['rfm'] == \"high\"]\n",
        "reester_high.head()"
      ]
    },
    {
      "cell_type": "code",
      "execution_count": null,
      "metadata": {
        "id": "6ZIUffXu6Ohz"
      },
      "outputs": [],
      "source": [
        "reester_high[['user_id', 'order_class']].groupby('order_class').count()"
      ]
    },
    {
      "cell_type": "markdown",
      "metadata": {
        "id": "2SPPfzDATawT"
      },
      "source": [
        "Чаще всего отмены у класса эконом"
      ]
    },
    {
      "cell_type": "code",
      "execution_count": null,
      "metadata": {
        "id": "1URFOrZgyu2m"
      },
      "outputs": [],
      "source": [
        "auto_class_reester = reester[['user_id', 'order_class']].groupby('order_class').count()\n",
        "auto_class_procent = (auto_class_reester['user_id']/ auto_class_reester['user_id'].sum()) * 100\n",
        "auto_class_reester['%'] = auto_class_procent\n",
        "auto_class_reester.head()"
      ]
    },
    {
      "cell_type": "markdown",
      "metadata": {
        "id": "FBNmnuOe1nsZ"
      },
      "source": [
        "Процентное соотношение по классам авто. Чаще всего делают заказ эконом, но комфорт отстает всего на 5%, что как мне кажется совсем немного. Хорошо было бы посчитать как они приносят по деньгам."
      ]
    },
    {
      "cell_type": "code",
      "execution_count": null,
      "metadata": {
        "id": "cHTzyHHB1zIr"
      },
      "outputs": [],
      "source": [
        "auto_class_reester.plot(kind='bar', \n",
        "                                                                  title='Распределение поездок по классам авто',\n",
        "                                                                  xlabel='Класс авто',\n",
        "                                                                  ylabel='Количество поездок')"
      ]
    },
    {
      "cell_type": "code",
      "execution_count": null,
      "metadata": {
        "id": "iwyCafw7xfL6"
      },
      "outputs": [],
      "source": [
        "reester['os'].mode()"
      ]
    },
    {
      "cell_type": "markdown",
      "metadata": {
        "id": "DKTaKuXixqrL"
      },
      "source": [
        "Пользователи Андроид, делают заказы чаще"
      ]
    },
    {
      "cell_type": "code",
      "execution_count": null,
      "metadata": {
        "id": "mH9VGCgYr43C"
      },
      "outputs": [],
      "source": [
        "reester.info()"
      ]
    },
    {
      "cell_type": "code",
      "execution_count": null,
      "metadata": {
        "id": "-wV5cseqYAV0"
      },
      "outputs": [],
      "source": [
        "reester['distance'].describe()"
      ]
    },
    {
      "cell_type": "markdown",
      "metadata": {
        "id": "gflzD0TQwu7f"
      },
      "source": [
        "среднее расстояние заказа 5 км"
      ]
    },
    {
      "cell_type": "code",
      "execution_count": null,
      "metadata": {
        "id": "NiYrK6jQwzcA"
      },
      "outputs": [],
      "source": [
        "reester['hour'].describe()"
      ]
    },
    {
      "cell_type": "markdown",
      "metadata": {
        "id": "b8ECSE3fxAPK"
      },
      "source": [
        "Данные по времени заказа распределенны слишком уж нормально"
      ]
    },
    {
      "cell_type": "code",
      "execution_count": null,
      "metadata": {
        "id": "OQO47BFNvsWL"
      },
      "outputs": [],
      "source": []
    }
  ],
  "metadata": {
    "colab": {
      "provenance": [],
      "mount_file_id": "1qQaC72VsECZiFmAM_xoB-tGyfrGvzyyP",
      "authorship_tag": "ABX9TyMTPRmkID+BB7mtlPm5GXvK",
      "include_colab_link": true
    },
    "kernelspec": {
      "display_name": "Python 3",
      "name": "python3"
    },
    "language_info": {
      "name": "python"
    }
  },
  "nbformat": 4,
  "nbformat_minor": 0
}